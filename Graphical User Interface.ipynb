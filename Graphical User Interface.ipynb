{
 "cells": [
  {
   "cell_type": "code",
   "execution_count": 1,
   "id": "8aa52247",
   "metadata": {},
   "outputs": [],
   "source": [
    "import tkinter as tk\n",
    "from tkinter import messagebox"
   ]
  },
  {
   "cell_type": "code",
   "execution_count": 2,
   "id": "ae3e7e65",
   "metadata": {},
   "outputs": [],
   "source": [
    "# Function to handle button click\n",
    "def on_click():\n",
    "    user_input = entry.get()\n",
    "    if user_input.strip() != \"\":\n",
    "        messagebox.showinfo(\"Message\", f\"You entered: {user_input}\")\n",
    "    else:\n",
    "        messagebox.showwarning(\"Warning\", \"Please enter something!\")\n"
   ]
  },
  {
   "cell_type": "code",
   "execution_count": 3,
   "id": "f181546e",
   "metadata": {},
   "outputs": [
    {
     "data": {
      "text/plain": [
       "''"
      ]
     },
     "execution_count": 3,
     "metadata": {},
     "output_type": "execute_result"
    }
   ],
   "source": [
    "# Create the main window\n",
    "root = tk.Tk()\n",
    "root.title(\"Simple GUI Application\")"
   ]
  },
  {
   "cell_type": "code",
   "execution_count": 4,
   "id": "44e3f968",
   "metadata": {},
   "outputs": [],
   "source": [
    "# Create a label widget\n",
    "label = tk.Label(root, text=\"Enter something:\")\n",
    "label.pack(pady=10)"
   ]
  },
  {
   "cell_type": "code",
   "execution_count": 5,
   "id": "c8cbb82d",
   "metadata": {},
   "outputs": [],
   "source": [
    "# Create an entry widget\n",
    "entry = tk.Entry(root, width=30)\n",
    "entry.pack(pady=5)"
   ]
  },
  {
   "cell_type": "code",
   "execution_count": 6,
   "id": "3ba5ba6c",
   "metadata": {},
   "outputs": [],
   "source": [
    "# Create a button widget\n",
    "button = tk.Button(root, text=\"Click Me!\", command=on_click)\n",
    "button.pack(pady=10)"
   ]
  },
  {
   "cell_type": "code",
   "execution_count": 7,
   "id": "7fbb2718",
   "metadata": {},
   "outputs": [],
   "source": [
    "# Run the main event loop\n",
    "root.mainloop()"
   ]
  },
  {
   "cell_type": "code",
   "execution_count": null,
   "id": "c27ee303",
   "metadata": {},
   "outputs": [],
   "source": []
  }
 ],
 "metadata": {
  "kernelspec": {
   "display_name": "Python 3 (ipykernel)",
   "language": "python",
   "name": "python3"
  },
  "language_info": {
   "codemirror_mode": {
    "name": "ipython",
    "version": 3
   },
   "file_extension": ".py",
   "mimetype": "text/x-python",
   "name": "python",
   "nbconvert_exporter": "python",
   "pygments_lexer": "ipython3",
   "version": "3.11.5"
  }
 },
 "nbformat": 4,
 "nbformat_minor": 5
}
